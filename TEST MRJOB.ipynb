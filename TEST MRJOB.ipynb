{
 "cells": [
  {
   "cell_type": "code",
   "execution_count": 1,
   "id": "655fee43",
   "metadata": {},
   "outputs": [],
   "source": [
    "from mrjob.job import MRJob\n"
   ]
  },
  {
   "cell_type": "code",
   "execution_count": 2,
   "id": "cd160d10",
   "metadata": {},
   "outputs": [
    {
     "ename": "IndentationError",
     "evalue": "expected an indented block (Temp/ipykernel_1208/39097563.py, line 4)",
     "output_type": "error",
     "traceback": [
      "\u001b[1;36m  File \u001b[1;32m\"C:\\Users\\bdenn\\AppData\\Local\\Temp/ipykernel_1208/39097563.py\"\u001b[1;36m, line \u001b[1;32m4\u001b[0m\n\u001b[1;33m    if word.lower() == \"bacon\":\u001b[0m\n\u001b[1;37m    ^\u001b[0m\n\u001b[1;31mIndentationError\u001b[0m\u001b[1;31m:\u001b[0m expected an indented block\n"
     ]
    }
   ],
   "source": [
    "from mrjob.job import MRJob\n",
    "class Bacon_count(MRJob):\n",
    "   def mapper(self, _, line):\n",
    "       for word in line.split():\n",
    "           if word.lower() == \"bacon\":\n",
    "               yield \"bacon\", 1\n",
    "\n",
    "   def reducer(self, key, values):\n",
    "       yield key, sum(values)\n",
    "if __name__ == \"__main__\":\n",
    "   Bacon_count.run()"
   ]
  },
  {
   "cell_type": "code",
   "execution_count": null,
   "id": "14398ff1",
   "metadata": {},
   "outputs": [],
   "source": [
    "$ python bacon_counter.py input.txt"
   ]
  }
 ],
 "metadata": {
  "kernelspec": {
   "display_name": "PythonData",
   "language": "python",
   "name": "pythondata"
  },
  "language_info": {
   "codemirror_mode": {
    "name": "ipython",
    "version": 3
   },
   "file_extension": ".py",
   "mimetype": "text/x-python",
   "name": "python",
   "nbconvert_exporter": "python",
   "pygments_lexer": "ipython3",
   "version": "3.7.6"
  }
 },
 "nbformat": 4,
 "nbformat_minor": 5
}
